{
 "cells": [
  {
   "cell_type": "code",
   "execution_count": null,
   "id": "278499f6-f4e0-40d1-882e-26712bd1f3ed",
   "metadata": {},
   "outputs": [],
   "source": [
    "Q1. What is a set in Python?\n",
    "ANs set in python is collection of data type like tuple ,int , value only contain primitive element not list"
   ]
  },
  {
   "cell_type": "code",
   "execution_count": 50,
   "id": "454f9f44-c29c-401f-9bc4-fce0c0625a9f",
   "metadata": {},
   "outputs": [],
   "source": [
    "# Q2.How do you create a set in Python?\n",
    "s= {1,2,3,4}"
   ]
  },
  {
   "cell_type": "code",
   "execution_count": 51,
   "id": "54843584-9491-4907-adb3-f815bf63cb86",
   "metadata": {},
   "outputs": [
    {
     "data": {
      "text/plain": [
       "set"
      ]
     },
     "execution_count": 51,
     "metadata": {},
     "output_type": "execute_result"
    }
   ],
   "source": [
    "type(s)"
   ]
  },
  {
   "cell_type": "code",
   "execution_count": 54,
   "id": "104c896c-763c-4416-8e40-7411ea367686",
   "metadata": {},
   "outputs": [],
   "source": [
    "#Q3. How do you add elements to a set in Python?\n",
    "s= {1,2,3,4,'avi',('saxena')}"
   ]
  },
  {
   "cell_type": "code",
   "execution_count": 55,
   "id": "2bad2d69-a2bd-4367-840b-96f139b5a33e",
   "metadata": {},
   "outputs": [
    {
     "data": {
      "text/plain": [
       "{1, 2, 3, 4, 'avi', 'saxena'}"
      ]
     },
     "execution_count": 55,
     "metadata": {},
     "output_type": "execute_result"
    }
   ],
   "source": [
    "# Q4. How do you remove elements from a set in Python?\n",
    "s"
   ]
  },
  {
   "cell_type": "code",
   "execution_count": 56,
   "id": "7a394857-815b-42cd-b2b5-276128be00cc",
   "metadata": {},
   "outputs": [],
   "source": [
    "s.remove('avi')"
   ]
  },
  {
   "cell_type": "code",
   "execution_count": 57,
   "id": "81821acb-0149-46f4-bfc1-335872487b45",
   "metadata": {},
   "outputs": [
    {
     "data": {
      "text/plain": [
       "{1, 2, 3, 4, 'saxena'}"
      ]
     },
     "execution_count": 57,
     "metadata": {},
     "output_type": "execute_result"
    }
   ],
   "source": [
    "s"
   ]
  },
  {
   "cell_type": "code",
   "execution_count": 58,
   "id": "6535a90d-ca58-4cdd-933e-c8a7aa486ae9",
   "metadata": {},
   "outputs": [
    {
     "data": {
      "text/plain": [
       "{1, 2, 3, 4, 'saxena'}"
      ]
     },
     "execution_count": 58,
     "metadata": {},
     "output_type": "execute_result"
    }
   ],
   "source": [
    "# Q5. How do you get the length of a set in Python?\n",
    "s"
   ]
  },
  {
   "cell_type": "code",
   "execution_count": 59,
   "id": "ccdcbcd3-96a4-4822-80d2-55f8889132b4",
   "metadata": {},
   "outputs": [
    {
     "data": {
      "text/plain": [
       "5"
      ]
     },
     "execution_count": 59,
     "metadata": {},
     "output_type": "execute_result"
    }
   ],
   "source": [
    "len(s)"
   ]
  },
  {
   "cell_type": "code",
   "execution_count": null,
   "id": "e746d2c0-1f3a-41d4-9203-d0ec03719d8c",
   "metadata": {},
   "outputs": [],
   "source": []
  }
 ],
 "metadata": {
  "kernelspec": {
   "display_name": "Python 3 (ipykernel)",
   "language": "python",
   "name": "python3"
  },
  "language_info": {
   "codemirror_mode": {
    "name": "ipython",
    "version": 3
   },
   "file_extension": ".py",
   "mimetype": "text/x-python",
   "name": "python",
   "nbconvert_exporter": "python",
   "pygments_lexer": "ipython3",
   "version": "3.10.8"
  }
 },
 "nbformat": 4,
 "nbformat_minor": 5
}
